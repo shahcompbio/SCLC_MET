{
 "cells": [
  {
   "cell_type": "markdown",
   "metadata": {},
   "source": [
    "# Integrate Malignant cells in multiple patients and plot FOXA2+ vs FOXA- cells\n",
    "\n",
    "\n",
    "## Description\n",
    "\n",
    "Using harmony for batch correction. \n",
    "For each cell, designate FOXA2 expression status.\n",
    "Plot density embedding of FOXA2 expression status.\n",
    "\n",
    "\n",
    "## Procedure\n",
    "\n",
    "- Import libraries\n",
    "- Load anndata object of malignant cells\n",
    "- Compute "
   ]
  },
  {
   "cell_type": "code",
   "execution_count": null,
   "metadata": {},
   "outputs": [],
   "source": [
    "import scanpy as sc\n",
    "import os\n",
    "import pandas as pd\n",
    "import seaborn as sns\n",
    "import matplotlib.pyplot as plt\n",
    "import numpy as np\n",
    "import matplotlib as mpl\n",
    "import matplotlib.font_manager\n",
    "from matplotlib import font_manager\n",
    "from matplotlib.font_manager import fontManager, FontProperties\n",
    "\n",
    "from common_utils import (\n",
    "    setup_dirs,\n",
    "    find_arial_font,\n",
    "    add_gene_binary_status,\n",
    "    mini_process,\n",
    ")\n",
    "\n",
    "# Set the font\n",
    "find_arial_font()"
   ]
  },
  {
   "cell_type": "code",
   "execution_count": null,
   "metadata": {},
   "outputs": [],
   "source": [
    "outDir = OUTDIR_HARMONY_INTEGRATION\n",
    "figuresDir, dataDir, tablesDir = setup_dirs(outDir)\n",
    "\n",
    "sc.settings.figdir = figuresDir\n",
    "sc.set_figure_params(dpi_save=300, vector_friendly=True)"
   ]
  },
  {
   "cell_type": "code",
   "execution_count": null,
   "metadata": {},
   "outputs": [],
   "source": [
    "adata_path = ADATA_PATH_RNA_19_2K_HARMONY\n",
    "adata = sc.read_h5ad(adata_path)"
   ]
  },
  {
   "cell_type": "code",
   "execution_count": null,
   "metadata": {},
   "outputs": [],
   "source": [
    "# The gene for which we want to plot the expression\n",
    "main_gene = 'FOXA2'\n",
    "main_genes = [main_gene]"
   ]
  },
  {
   "cell_type": "code",
   "execution_count": null,
   "metadata": {},
   "outputs": [],
   "source": [
    "## Test that the old result is there\n",
    "for i, gene in enumerate(main_genes):    \n",
    "    adata.obs[f'{gene}_is_expressed_str'] = adata.obs[f'{gene}_is_expressed'].astype(str)\n",
    "    sc.tl.embedding_density(adata, basis='umap', groupby=f'{gene}_is_expressed_str')\n",
    "    sc.pl.embedding_density(adata, basis='umap', key=f'umap_density_{gene}_is_expressed_str', save=f\"{gene}_expr_umap_density.pdf\")\n"
   ]
  },
  {
   "cell_type": "markdown",
   "metadata": {},
   "source": [
    "## Recompute Harmony with many iterations (or until convergence)"
   ]
  },
  {
   "cell_type": "code",
   "execution_count": null,
   "metadata": {},
   "outputs": [],
   "source": [
    "max_iter_harmony = 100\n",
    "harmony_column = 'sample'\n",
    "sc.external.pp.harmony_integrate(adata, key=harmony_column, max_iter_harmony=max_iter_harmony)\n",
    "sc.pp.neighbors(adata, use_rep='X_pca_harmony')\n",
    "sc.tl.umap(adata)\n",
    "sc.pl.umap(adata, color=harmony_column, save=f're_harmony_max_iter_{max_iter_harmony}.pdf')"
   ]
  },
  {
   "cell_type": "code",
   "execution_count": null,
   "metadata": {},
   "outputs": [],
   "source": [
    "# Batch correction with harmony.\n",
    "# Save the results for each configuration\n",
    "for use_harmony in [False, True]:\n",
    "    # Examine the effect of scaling prior to computing PCA\n",
    "    for do_scale in [False, True]:\n",
    "        conf_str = f\"use_harmony_{use_harmony}_do_scale_{do_scale}\"\n",
    "        adata = sc.read_h5ad(adata_path)\n",
    "        adata = mini_process(adata, use_harmony=use_harmony, do_scale=do_scale)\n",
    "        sc.pl.umap(adata, color=harmony_column, save=f're_harmony_max_iter_{max_iter_harmony}_{conf_str}.pdf')\n",
    "        adata.write(os.path.join(dataDir, f'adata_{conf_str}.h5ad'))"
   ]
  },
  {
   "cell_type": "markdown",
   "metadata": {},
   "source": [
    "### Now plot the heat embedding"
   ]
  },
  {
   "cell_type": "code",
   "execution_count": null,
   "metadata": {},
   "outputs": [],
   "source": [
    "# For each configuration (use_harmony, do_scale), plot the density of FOXA2 expression\n",
    "for use_harmony in [False, True]:\n",
    "    for do_scale in [False, True]:\n",
    "        conf_str = f\"use_harmony_{use_harmony}_do_scale_{do_scale}\"\n",
    "        adata = sc.read_h5ad(os.path.join(dataDir, f'adata_{conf_str}.h5ad'))\n",
    "        for i, gene in enumerate(main_genes):    \n",
    "            adata = add_gene_binary_status(adata, gene, threshold=0, use_counts=True)\n",
    "            adata.obs[f'{gene}_is_expressed_str'] = adata.obs[f'{gene}_is_expressed'].astype(str)\n",
    "            sc.tl.embedding_density(adata, basis='umap', groupby=f'{gene}_is_expressed_str')\n",
    "            sc.pl.embedding_density(adata, basis='umap', key=f'umap_density_{gene}_is_expressed_str', save=f\"{gene}_expr_umap_density_{conf_str}.pdf\")"
   ]
  },
  {
   "cell_type": "code",
   "execution_count": null,
   "metadata": {},
   "outputs": [],
   "source": [
    "# UMAP of patients\n",
    "sc.pl.umap(adata, color='patient_id', save='_umap_patients_19.pdf', ncols=1, title='Patient ID')\n",
    "sc.pl.umap(adata, color='sample', save='_umap_patients_19_sample.pdf', ncols=1, title='Patient ID')\n",
    "\n",
    "# Violin plot of FOXA2 expression per patient\n",
    "adata.obs[f'{main_gene}_expr_log'] = adata[:, main_gene].X.A.flatten()\n",
    "order = adata.obs.groupby('sample')[f'{main_gene}_expr_log'].mean().sort_values(ascending=False).index.tolist()\n",
    "\n",
    "plt.clf()\n",
    "fig, ax = plt.subplots(figsize=(10, 5))\n",
    "sc.pl.violin(adata, groupby='sample', keys=main_gene, order=order, rotation=90, ax=ax)\n",
    "plt.savefig(os.path.join(figuresDir, f'{main_gene}_violin_per_patient.pdf'), bbox_inches='tight')\n",
    "plt.close()\n",
    "\n",
    "# Plot density embedding of FOXA2 expression status\n",
    "for i, gene in enumerate(main_genes):    \n",
    "    adata.obs[f'{gene}_is_expressed_str'] = adata.obs[f'{gene}_is_expressed'].astype(str)\n",
    "    sc.tl.embedding_density(adata, basis='umap', groupby=f'{gene}_is_expressed_str')\n",
    "    sc.pl.embedding_density(adata, basis='umap', key=f'umap_density_{gene}_is_expressed_str', save=f\"{gene}_expr_umap_density.pdf\")"
   ]
  },
  {
   "cell_type": "code",
   "execution_count": null,
   "metadata": {},
   "outputs": [],
   "source": [
    "\n",
    "sc.pl.embedding_density(adata, basis='umap', key=f'umap_density_{main_gene}_is_expressed', save=f\"{main_gene}_expr_umap_density_with_harmony_false_blue.png\", group='False', color_map='Blues')"
   ]
  }
 ],
 "metadata": {
  "language_info": {
   "name": "python"
  }
 },
 "nbformat": 4,
 "nbformat_minor": 2
}
