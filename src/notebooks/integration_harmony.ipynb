{
 "cells": [
  {
   "cell_type": "markdown",
   "metadata": {},
   "source": [
    "# Integrate Malignant cells in multiple patients to and plot FOXA2+ vs FOXA- cells"
   ]
  },
  {
   "cell_type": "code",
   "execution_count": null,
   "metadata": {},
   "outputs": [],
   "source": [
    "import scanpy as sc\n",
    "import anndata\n",
    "import os\n",
    "import pandas as pd\n",
    "import seaborn as sns\n",
    "import matplotlib.pyplot as plt\n",
    "import harmonypy\n",
    "import pickle\n",
    "import numpy as np\n",
    "import matplotlib as mpl\n",
    "import matplotlib.font_manager\n",
    "from matplotlib import font_manager\n",
    "from matplotlib.font_manager import fontManager, FontProperties\n",
    "import infercnvpy as cnv\n",
    "\n",
    "\n",
    "\n",
    "def setup_dirs(outDir):\n",
    "    figuresDir = os.path.join(outDir, 'figures')\n",
    "    dataDir = os.path.join(outDir, 'data')\n",
    "    tablesDir = os.path.join(outDir, 'tables')\n",
    "    os.makedirs(figuresDir, exist_ok=True)\n",
    "    os.makedirs(dataDir, exist_ok=True)\n",
    "    os.makedirs(tablesDir, exist_ok=True)\n",
    "    return figuresDir, dataDir, tablesDir\n",
    "\n",
    "def force_arial():\n",
    "    arial_font_path = '/home/salehis/projects/cdm/fonts/arial.ttf'\n",
    "    font_manager.fontManager.addfont(arial_font_path)\n",
    "    prop = font_manager.FontProperties(fname=arial_font_path)\n",
    "    print(\"Arial font forced\")\n",
    "\n",
    "# set the font\n",
    "def find_arial_font():\n",
    "    arial_font = None\n",
    "    for font in font_manager.findSystemFonts():\n",
    "        #if font.lower().endswith(\"arial.ttf\"):\n",
    "        if \"arial\" in font.lower():\n",
    "            arial_font = font\n",
    "            break\n",
    "        if arial_font:\n",
    "            print(\"Found Arial font at: \", arial_font)\n",
    "            prop = font_manager.FontProperties(fname=arial_font)\n",
    "            sns.set(font=prop.get_name())\n",
    "    if arial_font is None:\n",
    "        print(\"Arial font not found\")\n",
    "        force_arial()\n",
    "\n",
    "\n",
    "def filter_genes(adata):\n",
    "    \"\"\"\n",
    "    Filtering the following genes to avoid the dominant effect of\n",
    "    IG{}V, (Immunoglobulin variable)\n",
    "    TR{}, (T cell receptor variable genes)\n",
    "    linc, (Long intergenic non-coding),\n",
    "    genes starting with RP (ribosomal protein),\n",
    "    genes starting with MT- (mitochondrial genes)\n",
    "    HLA genes\n",
    "    \"\"\"\n",
    "    genes = [x for x in adata.var.index.tolist() if \"MT-\" not in x]\n",
    "    genes = [x for x in genes if \".\" not in x]\n",
    "    genes = [x for x in genes if not x.startswith(\"RP\")]\n",
    "    genes = [x for x in genes if \"linc\" not in x.lower()]\n",
    "    genes = [x for x in genes if \"TRA\" not in x.upper()]\n",
    "    genes = [x for x in genes if \"TRB\" not in x.upper()]\n",
    "    genes = [x for x in genes if \"TRG\" not in x.upper()]\n",
    "    genes = [x for x in genes if \"TRD\" not in x.upper()]\n",
    "    genes = [x for x in genes if \"IGKV\" not in x.upper()]\n",
    "    genes = [x for x in genes if \"IGHV\" not in x.upper()]\n",
    "    genes = [x for x in genes if \"IGLV\" not in x.upper()]\n",
    "    genes = [x for x in genes if \"-\" not in x.upper() and \"HLA\" not in x.upper()]\n",
    "    adata = adata[:, genes].copy()\n",
    "    return adata\n",
    "\n",
    "\n",
    "def add_gene_binary_status(adata, gene, threshold=np.log1p(1), use_counts=False):\n",
    "    \"\"\"\n",
    "    Find a cut-off for expressed vs not expressed\n",
    "    very simple, expressed, if there is more than 1 count (i.e., log1p > log(1+1) = np.log1p(1))\n",
    "    add a column to adata.obs, {gene}_is_expressed\n",
    "    \"\"\"    \n",
    "    assert gene in adata.var_names, f\"Gene {gene} not in adata.var_names...\"\n",
    "    # drop the column if it exists\n",
    "    if f'{gene}_is_expressed' in adata.obs.columns:\n",
    "        adata.obs.drop(f'{gene}_is_expressed', axis=1, inplace=True)\n",
    "    if f'{gene}_EXPR' in adata.obs.columns:\n",
    "        adata.obs.drop(f'{gene}_EXPR', axis=1, inplace=True)\n",
    "    if use_counts:\n",
    "        adata.obs[f'{gene}_EXPR'] = adata.layers['counts'][:, (adata.var_names == gene)].A\n",
    "    else:\n",
    "        adata.obs[f'{gene}_EXPR'] = adata[:, gene].X.A\n",
    "    adata.obs[f'{gene}_is_expressed'] = adata.obs[f'{gene}_EXPR'] > threshold\n",
    "    adata.obs[f'{gene}_is_expressed'] = adata.obs[f'{gene}_is_expressed'].astype('category')    \n",
    "    return adata \n",
    "\n",
    "find_arial_font()"
   ]
  },
  {
   "cell_type": "code",
   "execution_count": null,
   "metadata": {},
   "outputs": [],
   "source": [
    "outDir = '/data1/shahs3/users/salehis/sclc/results/rebuttal/nat_comms/integration'\n",
    "figuresDir, dataDir, tablesDir = setup_dirs(outDir)\n",
    "\n",
    "sc.settings.figdir = figuresDir\n",
    "sc.set_figure_params(dpi_save=300, vector_friendly=True)"
   ]
  },
  {
   "cell_type": "markdown",
   "metadata": {},
   "source": [
    "rsync -azvp --relative \\\n",
    "    iris:/data1/shahs3/users/salehis/sclc/./results//rebuttal/nat_comms/integration/figures/*.p* \\\n",
    "    /Users/salehis/Projects/sclc/rebuttal_code/SCLC_MET/"
   ]
  },
  {
   "cell_type": "code",
   "execution_count": null,
   "metadata": {},
   "outputs": [],
   "source": [
    "adata_path = '/data1/shahs3/users/salehis/sclc/results/patient_met/foxa2_umaps_19/data/rna_19_2K_harmony.h5ad'\n",
    "adata = sc.read_h5ad(adata_path)"
   ]
  },
  {
   "cell_type": "code",
   "execution_count": null,
   "metadata": {},
   "outputs": [],
   "source": [
    "# Do one without any batch correction "
   ]
  },
  {
   "cell_type": "code",
   "execution_count": null,
   "metadata": {},
   "outputs": [],
   "source": [
    "# "
   ]
  },
  {
   "cell_type": "code",
   "execution_count": null,
   "metadata": {},
   "outputs": [],
   "source": [
    "## Test that the old result is there\n",
    "\n",
    "main_genes = ['FOXA2']\n",
    "for i, gene in enumerate(main_genes):    \n",
    "    adata.obs[f'{gene}_is_expressed_str'] = adata.obs[f'{gene}_is_expressed'].astype(str)\n",
    "    sc.tl.embedding_density(adata, basis='umap', groupby=f'{gene}_is_expressed_str')\n",
    "    sc.pl.embedding_density(adata, basis='umap', key=f'umap_density_{gene}_is_expressed_str', save=f\"{gene}_expr_umap_density.pdf\")\n"
   ]
  },
  {
   "cell_type": "markdown",
   "metadata": {},
   "source": [
    "## Recompute Harmony with many more iterations"
   ]
  },
  {
   "cell_type": "code",
   "execution_count": null,
   "metadata": {},
   "outputs": [],
   "source": [
    "max_iter_harmony = 100\n",
    "harmony_column = 'sample'\n",
    "sc.external.pp.harmony_integrate(adata, key=harmony_column, max_iter_harmony=max_iter_harmony)\n",
    "sc.pp.neighbors(adata, use_rep='X_pca_harmony')\n",
    "sc.tl.umap(adata)\n",
    "sc.pl.umap(adata, color=harmony_column, save=f're_harmony_max_iter_{max_iter_harmony}.pdf')\n"
   ]
  },
  {
   "cell_type": "code",
   "execution_count": null,
   "metadata": {},
   "outputs": [],
   "source": [
    "def mini_process(adata, use_harmony=False, do_scale=False, max_iter_harmony=100, harmony_column='sample'):\n",
    "    \"\"\"\n",
    "    Minimal Processing on the top 2000 genes. \n",
    "\n",
    "    1. Normalize the data\n",
    "    2. Log1p the data\n",
    "    3. Scale the data\n",
    "    4. Run PCA\n",
    "    5. Run Harmony\n",
    "    6. Run UMAP\n",
    "    \"\"\"\n",
    "    adata.X = adata.layers['counts'].copy()\n",
    "    assert adata.X.max() > 100, \"The data is not raw counts\"\n",
    "    assert adata.X.min() >= 0, \"The data is not raw counts\"\n",
    "    # Normalize the data\n",
    "    sc.pp.normalize_total(adata, target_sum=1e4)\n",
    "    sc.pp.log1p(adata)\n",
    "    if do_scale:\n",
    "        sc.pp.scale(adata, max_value=10)\n",
    "    sc.tl.pca(adata, svd_solver='arpack')\n",
    "    use_rep = 'X_pca'\n",
    "    if use_harmony:\n",
    "        sc.external.pp.harmony_integrate(adata, key=harmony_column, max_iter_harmony=max_iter_harmony)\n",
    "        use_rep = 'X_pca_harmony'\n",
    "    sc.pp.neighbors(adata, use_rep=use_rep)\n",
    "    sc.tl.umap(adata)\n",
    "    return adata\n",
    "\n",
    "for use_harmony in [False, True]:\n",
    "    for do_scale in [False, True]:\n",
    "        conf_str = f\"use_harmony_{use_harmony}_do_scale_{do_scale}\"\n",
    "        adata = sc.read_h5ad(adata_path)\n",
    "        adata = mini_process(adata, use_harmony=use_harmony, do_scale=do_scale)\n",
    "        sc.pl.umap(adata, color=harmony_column, save=f're_harmony_max_iter_{max_iter_harmony}_{conf_str}.pdf')\n",
    "        adata.write(os.path.join(dataDir, f'adata_{conf_str}.h5ad'))\n",
    "\n",
    "\n",
    "# Now plot the heat embedding\n",
    "for use_harmony in [False, True]:\n",
    "    for do_scale in [False, True]:\n",
    "        conf_str = f\"use_harmony_{use_harmony}_do_scale_{do_scale}\"\n",
    "        adata = sc.read_h5ad(os.path.join(dataDir, f'adata_{conf_str}.h5ad'))\n",
    "        main_genes = ['FOXA2']\n",
    "        for i, gene in enumerate(main_genes):    \n",
    "            adata = add_gene_binary_status(adata, 'FOXA2', threshold=0, use_counts=True)\n",
    "            adata.obs[f'{gene}_is_expressed_str'] = adata.obs[f'{gene}_is_expressed'].astype(str)\n",
    "            sc.tl.embedding_density(adata, basis='umap', groupby=f'{gene}_is_expressed_str')\n",
    "            sc.pl.embedding_density(adata, basis='umap', key=f'umap_density_{gene}_is_expressed_str', save=f\"{gene}_expr_umap_density_{conf_str}.pdf\")\n"
   ]
  },
  {
   "cell_type": "code",
   "execution_count": null,
   "metadata": {},
   "outputs": [],
   "source": [
    "\n",
    "# UMAP of patients\n",
    "sc.pl.umap(adata, color='patient_id', save='_umap_patients_19.pdf', ncols=1, title='Patient ID')\n",
    "sc.pl.umap(adata, color='sample', save='_umap_patients_19_sample.pdf', ncols=1, title='Patient ID')\n",
    "\n",
    "# Violin plot of FOXA2 expression per patient\n",
    "adata.obs['FOXA2_expr_log'] = adata[:, 'FOXA2'].X.A.flatten()\n",
    "order = adata.obs.groupby('sample')['FOXA2_expr_log'].mean().sort_values(ascending=False).index.tolist()\n",
    "plt.clf()\n",
    "fig, ax = plt.subplots(figsize=(10, 5))\n",
    "sc.pl.violin(adata, groupby='sample', keys='FOXA2', order=order, rotation=90, ax=ax)\n",
    "plt.savefig(os.path.join(figuresDir, 'foxa2_violin_per_patient.pdf'), bbox_inches='tight')\n",
    "plt.close()\n",
    "\n",
    "\n",
    "main_genes = ['FOXA2']\n",
    "for i, gene in enumerate(main_genes):    \n",
    "    adata.obs[f'{gene}_is_expressed_str'] = adata.obs[f'{gene}_is_expressed'].astype(str)\n",
    "    sc.tl.embedding_density(adata, basis='umap', groupby=f'{gene}_is_expressed_str')\n",
    "    sc.pl.embedding_density(adata, basis='umap', key=f'umap_density_{gene}_is_expressed_str', save=f\"{gene}_expr_umap_density.pdf\")"
   ]
  },
  {
   "cell_type": "code",
   "execution_count": null,
   "metadata": {},
   "outputs": [],
   "source": [
    "\n",
    "sc.pl.embedding_density(adata, basis='umap', key='umap_density_FOXA2_is_expressed', save=f\"foxa2_expr_umap_density_with_harmony_false_blue.png\", group='False', color_map='Blues')"
   ]
  }
 ],
 "metadata": {
  "language_info": {
   "name": "python"
  }
 },
 "nbformat": 4,
 "nbformat_minor": 2
}
