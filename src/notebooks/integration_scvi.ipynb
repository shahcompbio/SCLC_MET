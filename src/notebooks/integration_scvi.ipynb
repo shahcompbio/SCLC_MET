{
 "cells": [
  {
   "cell_type": "code",
   "execution_count": null,
   "metadata": {},
   "outputs": [],
   "source": [
    "# Use scVI to integrate and batch correct"
   ]
  },
  {
   "cell_type": "markdown",
   "metadata": {},
   "source": [
    "# Integrate Malignant cells in multiple patients and plot FOXA2+ vs FOXA- cells\n",
    "\n",
    "\n",
    "## Description\n",
    "\n",
    "Using scVI for batch correction. \n",
    "For each cell, designate FOXA2 expression status.\n",
    "Plot density embedding of FOXA2 expression status.\n",
    "\n",
    "\n",
    "## Procedure\n",
    "\n",
    "- Import libraries\n",
    "- Load anndata object of malignant cells\n",
    "- Compute \n",
    "\n",
    "\n",
    "## Reference\n",
    "\n",
    "Lopez, Romain, et al. \"Deep generative modeling for single-cell transcriptomics.\" Nature methods 15.12 (2018): 1053-1058."
   ]
  },
  {
   "cell_type": "markdown",
   "metadata": {},
   "source": [
    "# Setup environment\n",
    "\n",
    "\n",
    "// Remove conda env if it exist\n",
    "conda deactivate\n",
    "conda remove -n scvi-env --all\n",
    "\n",
    "// Create conda env\n",
    "conda create -n scvi-env python=3.10\n",
    "conda activate scvi-env\n",
    "\n",
    "// Install Pytorch\n",
    "conda install pytorch==2.0.1 torchvision==0.15.2 torchaudio==2.0.2 pytorch-cuda=11.7 -c pytorch -c nvidia \n",
    "\n",
    "// Install Jax\n",
    "conda install jax -c conda-forge\n",
    "\n",
    "// Install scvi-tools\n",
    "// conda install scvi-tools -c conda-forge\n",
    "pip install -U scvi-tools\n",
    "\n",
    "// Check that it worked\n",
    "python -c \"import torch; torch.cuda.is_available()\"\n",
    "python -c \"import scvi\"\n",
    "\n",
    "// Install scanpy \n",
    "pip install scanpy, ipython\n",
    "\n"
   ]
  },
  {
   "cell_type": "code",
   "execution_count": null,
   "metadata": {},
   "outputs": [],
   "source": [
    "import os\n",
    "import scvi\n",
    "import scanpy as sc\n",
    "import torch\n",
    "import anndata\n",
    "import os\n",
    "import pandas as pd\n",
    "import seaborn as sns\n",
    "import matplotlib.pyplot as plt\n",
    "import harmonypy\n",
    "import pickle\n",
    "import numpy as np\n",
    "import matplotlib as mpl\n",
    "import matplotlib.font_manager\n",
    "from matplotlib import font_manager\n",
    "from matplotlib.font_manager import fontManager, FontProperties\n",
    "import infercnvpy as cnv\n",
    "\n",
    "\n",
    "from common_utils import setup_dirs, find_arial_font, add_gene_binary_status"
   ]
  },
  {
   "cell_type": "code",
   "execution_count": null,
   "metadata": {},
   "outputs": [],
   "source": [
    "outDir = OUTDIR_FOR_SCVI_INTEGRATION\n",
    "figuresDir, dataDir, tablesDir = setup_dirs(outDir)\n",
    "\n",
    "sc.settings.figdir = figuresDir\n",
    "sc.set_figure_params(dpi_save=300, vector_friendly=True)\n",
    "\n",
    "find_arial_font()\n",
    "\n",
    "main_genes = ['FOXA2']"
   ]
  },
  {
   "cell_type": "code",
   "execution_count": null,
   "metadata": {},
   "outputs": [],
   "source": [
    "# Load anndata\n",
    "n_top_genes = 2000\n",
    "adata_path = ADATA_PATH_RNA_19_2K_HARMONY\n",
    "adata = sc.read_h5ad(adata_path)\n",
    "adata.X = adata.layers[\"counts\"].copy()\n",
    "assert adata.X.max() > 100 and adata.X.min() >= 0, \"Has to be counts!\"\n",
    "adata.var[\"mito\"] = adata.var_names.str.startswith(\"MT-\")\n",
    "adata.var[\"ribo\"] = adata.var_names.str.startswith((\"RPS\", \"RPL\"))\n",
    "adata.var[\"hb\"] = adata.var_names.str.contains((\"^HB[^(P)]\"))\n",
    "sc.pp.calculate_qc_metrics(adata, qc_vars=[\"mito\", \"ribo\", \"hb\"], inplace=True)\n",
    "\n",
    "# Run SCVI\n",
    "torch.set_float32_matmul_precision('medium' | 'high')\n",
    "scvi.model.SCVI.setup_anndata(adata, categorical_covariate_keys=['sample'], continuous_covariate_keys=[\"pct_counts_mito\", \"pct_counts_ribo\"],)\n",
    "model_dir = os.path.join(dataDir, f\"scvi_integrated_{n_top_genes}\")\n",
    "model = scvi.model.SCVI(adata, n_latent=32)\n",
    "model.train()\n",
    "model.save(model_dir, overwrite=True)\n",
    "\n",
    "# Load the model\n",
    "model = scvi.model.SCVI.load(model_dir, adata=adata)\n",
    "\n",
    "SCVI_LATENT_KEY = \"X_scVI\"\n",
    "latent = model.get_latent_representation()\n",
    "adata.obsm[SCVI_LATENT_KEY] = latent\n",
    "SCVI_NORMALIZED_KEY = \"scvi_normalized\"\n",
    "\n",
    "adata.layers[SCVI_NORMALIZED_KEY] = model.get_normalized_expression(library_size=1e4)\n",
    "adata.write(os.path.join(dataDir, f\"sub_adata_{n_top_genes}_scvi.h5ad\"))\n",
    "sc.pp.neighbors(adata, use_rep=SCVI_LATENT_KEY)\n",
    "sc.tl.umap(adata)\n",
    "sc.pl.umap(adata, color=\"sample\", save=f'umap_with_batch_{n_top_genes}.pdf')\n",
    "adata.write(os.path.join(dataDir, f\"sub_adata_{n_top_genes}_scvi.h5ad\"))\n"
   ]
  },
  {
   "cell_type": "code",
   "execution_count": null,
   "metadata": {},
   "outputs": [],
   "source": [
    "for i, gene in enumerate(main_genes):    \n",
    "    adata = add_gene_binary_status(adata, main_genes, threshold=0, use_counts=True)\n",
    "    adata.obs[f'{gene}_is_expressed_str'] = adata.obs[f'{gene}_is_expressed'].astype(str)\n",
    "    sc.tl.embedding_density(adata, basis='umap', groupby=f'{gene}_is_expressed_str')\n",
    "    sc.pl.embedding_density(adata, basis='umap', key=f'umap_density_{gene}_is_expressed_str', save=f\"{gene}_expr_umap_densitypdf\")\n"
   ]
  }
 ],
 "metadata": {
  "language_info": {
   "name": "python"
  }
 },
 "nbformat": 4,
 "nbformat_minor": 2
}
