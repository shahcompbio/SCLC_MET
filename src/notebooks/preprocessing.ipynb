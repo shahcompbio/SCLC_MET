{
 "cells": [
  {
   "cell_type": "markdown",
   "metadata": {},
   "source": [
    "# Preprocess the data\n",
    "\n",
    "1. QC\n",
    "2. Remove low quality cells\n",
    "3. Remove doublets\n",
    "4. Call major compartments\n",
    "5. Link with InferCNV results\n",
    "6. Split into malignant Cells"
   ]
  },
  {
   "cell_type": "markdown",
   "metadata": {},
   "source": [
    "## Remove Doublets"
   ]
  },
  {
   "cell_type": "code",
   "execution_count": null,
   "metadata": {},
   "outputs": [],
   "source": [
    "# PYTHON\n",
    "import scanpy as sc\n",
    "import os\n",
    "import matplotlib.pyplot as plt\n",
    "import seaborn as sns\n",
    "\n",
    "# Setup directories\n",
    "ADATA_IN_PATH = os.path.join(dataDir, 'primary.h5ad')\n",
    "ADATA_OUT_PATH = os.path.join(dataDir, 'primary_doublet.h5ad')\n",
    "DOUBLET_HIST_PATH = os.path.join(figuresDir, 'doublet_score_hist.png'\n",
    "\n",
    "adata = sc.read_h5ad(ADATA_PATH)\n",
    "assert adata.X.max() > 100, \"Seems like the data is not raw counts...\"\n",
    "adata.raw = adata.copy()\n",
    "sc.pp.scrublet(adata, batch_key=\"sample\")\n",
    "sc.pl.umap(adata, color=[\"sample\", 'group', \"doublet_score\", \"predicted_doublet\"], save=\"_scrublet.png\", show=False, cmap='viridis', ncols=1)\n",
    "# Plot histogram of the doublet_scores\n",
    "plt.clf()\n",
    "sns.histplot(adata.obs['doublet_score'], bins=100)\n",
    "plt.savefig(DOUBLET_HIST_PATH), dpi=300, bbox_inches='tight')\n",
    "plt.close()\n",
    "\n",
    "# Drop doublet\n",
    "adata = adata[~adata.obs['predicted_doublet']].copy()\n",
    "adata.write(ADATA_OUT_PATH)"
   ]
  },
  {
   "cell_type": "markdown",
   "metadata": {},
   "source": [
    "##  Double checking doublet using scDblFinder in R.\n",
    "\n",
    "We found similar results, so will keep the scrublet results."
   ]
  },
  {
   "cell_type": "code",
   "execution_count": null,
   "metadata": {},
   "outputs": [],
   "source": [
    "## R\n",
    "# First read the data to form an sce object\n",
    "library(scDblFinder)\n",
    "library(Matrix)\n",
    "library(dplyr)\n",
    "library(tibble)\n",
    "\n",
    "setwd(\"/data1/shahs3/users/salehis/sclc/results/patient_met/primary_umaps/data\")\n",
    "\n",
    "# Read the counts matrix (.npz numpy)\n",
    "\n",
    "# Should be gene by cell, so transpose\n",
    "counts <- readMM(\"counts.mtx\")\n",
    "counts <- t(counts)\n",
    "# Read the cell and gene names\n",
    "cell_names <- readLines(\"Ru1449A_cells.txt\")\n",
    "gene_names <- readLines(\"Ru1449A_genes.txt\")\n",
    "\n",
    "# Create the sce object\n",
    "sce <- SingleCellExperiment(list(counts=counts), colData=DataFrame(label=cell_names), rowData=DataFrame(gene_id=gene_names))\n",
    "\n",
    "# Run the scDblFinder\n",
    "sce <- scDblFinder(sce)\n",
    "\n",
    "# Examine the results\n",
    "sce$scDblFinder.score\n",
    "sce$scDblFinder.class %>% table()\n",
    "\n",
    "# Extract a table of cell_name, score, and class\n",
    "res <- data.frame(cell_name=sce$label, score=sce$scDblFinder.score, class=sce$scDblFinder.class) %>% as_tibble()\n",
    "res <- res %>% arrange(desc(score))\n",
    "# Save this as a csv\n",
    "write.csv(res, \"dblFinder_default.csv\", row.names=FALSE)\n",
    "\n",
    "# Rerun with higher threshold\n",
    "sce <- scDblFinder(sce, dbr=0.1)\n",
    "# create the table\n",
    "res <- data.frame(cell_name=sce$label, score=sce$scDblFinder.score, class=sce$scDblFinder.class) %>% as_tibble()\n",
    "res <- res %>% arrange(desc(score))\n",
    "# save this as a csv\n",
    "write.csv(res, \"dblFinder_dbr_0.1.csv\", row.names=FALSE)"
   ]
  }
 ],
 "metadata": {
  "language_info": {
   "name": "python"
  }
 },
 "nbformat": 4,
 "nbformat_minor": 2
}
