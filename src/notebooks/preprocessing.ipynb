{
 "cells": [
  {
   "cell_type": "markdown",
   "metadata": {},
   "source": [
    "# Preprocess the data\n",
    "\n",
    "1. QC\n",
    "2. Remove low quality cells\n",
    "3. Remove doublets\n",
    "4. Call major compartments\n",
    "5. Link with InferCNV results\n",
    "6. Split into malignant Cells"
   ]
  }
 ],
 "metadata": {
  "language_info": {
   "name": "python"
  }
 },
 "nbformat": 4,
 "nbformat_minor": 2
}
