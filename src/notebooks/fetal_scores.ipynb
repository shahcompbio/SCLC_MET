{
 "cells": [
  {
   "cell_type": "markdown",
   "metadata": {},
   "source": [
    "# Computing and plotting fetal gene expression scores"
   ]
  },
  {
   "cell_type": "markdown",
   "metadata": {},
   "source": [
    "## Setup Directories"
   ]
  },
  {
   "cell_type": "code",
   "execution_count": null,
   "metadata": {},
   "outputs": [],
   "source": [
    "import scanpy as sc\n",
    "from common_utils import setup_dirs, find_arial_font, add_gene_binary_status, load_msigdb\n",
    "import os\n",
    "import pandas as pd\n",
    "import matplotlib.pyplot as plt\n",
    "import seaborn as sns\n",
    "import numpy as np\n",
    "from scipy.stats import mannwhitneyu\n",
    "\n",
    "find_arial_font()\n",
    "\n",
    "outDir = OUTDIR_FETAL_SCORES\n",
    "figuresDir, dataDir, tablesDir = setup_dirs(outDir)\n",
    "\n",
    "sc.settings.figdir = figuresDir\n",
    "sc.set_figure_params(dpi_save=300, vector_friendly=True)"
   ]
  },
  {
   "cell_type": "code",
   "execution_count": null,
   "metadata": {},
   "outputs": [],
   "source": [
    "# Utility plotting function\n",
    "def plot_score_violin(df, score, figsize=(6, 6), fpath=None):\n",
    "    \"\"\"\n",
    "    Plot the violin plot for the given score\n",
    "    \n",
    "    Parameters\n",
    "    ----------\n",
    "    df: pd.DataFrame\n",
    "        The dataframe containing the score and the FOXA2 status. The dataframe should have the following columns:\n",
    "        - FOXA2_is_expressed: The FOXA2 status\n",
    "        - score: The score to plot\n",
    "    score: str\n",
    "        The score to plot\n",
    "    \n",
    "    Returns\n",
    "    -------\n",
    "    None\n",
    "    \"\"\"\n",
    "    # Check the data.frame \n",
    "    cols = ['FOXA2_is_expressed', score]\n",
    "    assert all([col in df.columns for col in cols]), f\"Missing columns in the dataframe: {cols}\"\n",
    "    order = [False, True]\n",
    "    q95 = df[score].quantile(1)\n",
    "    qmax = df[score].max()\n",
    "    x1, x2 = 0, 1\n",
    "    y, h, col = q95*1.1, q95*.05, 'k'\n",
    "    plt.clf()\n",
    "    plt.figure(figsize=figsize)\n",
    "    sns.set(font_scale=1.5)\n",
    "    sns.set_style(\"white\")\n",
    "    ax = sns.violinplot(data=df, x='FOXA2_is_expressed', y=score, order=order, hue='FOXA2_is_expressed')\n",
    "    plt.plot([x1, x1, x2, x2], [y, y+h, y+h, y], lw=1.5, c=col)\n",
    "    plt.text((x1+x2)*.5, y+h, f\"p < 0.01\", ha='center', va='bottom', color=col)\n",
    "    # Set x-axis (FOXA2-, FOXA2+ )\n",
    "    plt.xticks([0, 1], ['FOXA2-', 'FOXA2+'])\n",
    "    ylabel_str = score.replace('HE_LIM_SUN_FETAL_LUNG_', '')\n",
    "    # Break it into two lines by replacing the third _ with a newline\n",
    "    ylabel_str = ylabel_str.split('_')\n",
    "    for i in range(len(ylabel_str)):\n",
    "        if i == 2:\n",
    "            ylabel_str[i] = ylabel_str[i] + '\\n'\n",
    "    # Stich them back together\n",
    "    ylabel_str = ' '.join(ylabel_str)\n",
    "    plt.ylabel(f'{ylabel_str} Signature')\n",
    "    plt.xlabel('')\n",
    "    plt.legend([],[], frameon=False)\n",
    "    plt.scatter(0, qmax*1.2, color='white')\n",
    "    plt.tight_layout()\n",
    "    if fpath:\n",
    "        plt.savefig(fpath, bbox_inches='tight', dpi=300)\n",
    "    else:\n",
    "        plt.show()\n",
    "    plt.close()"
   ]
  },
  {
   "cell_type": "markdown",
   "metadata": {},
   "source": [
    "## Extract the gene sets reported in HE_LIM_SUN_FETAL \n",
    "\n",
    "Ref: He, Peng, et al. \"A human fetal lung cell atlas uncovers proximal-distal gradients of differentiation and key regulators of epithelial fates.\" Cell 185.25 (2022): 4841-4860.\n"
   ]
  },
  {
   "cell_type": "code",
   "execution_count": null,
   "metadata": {},
   "outputs": [],
   "source": [
    "adata_path = ADATA_PATH_FETAL_SCORES\n",
    "adata = sc.read(adata_path)\n",
    "\n",
    "# Loads MSigDB\n",
    "msigdb = load_msigdb()\n",
    "genesets = msigdb.geneset.unique().tolist()\n",
    "\n",
    "# Extract the fetal \n",
    "query_keys = ['stem', 'fetal']\n",
    "fetal_set = []\n",
    "for geneset in genesets:\n",
    "    for key in query_keys:\n",
    "        if key in geneset.lower():\n",
    "            print(geneset)\n",
    "            fetal_set.append(geneset)\n",
    "\n",
    "he_lim = []\n",
    "for geneset in fetal_set:\n",
    "    if 'lung' in geneset.lower():\n",
    "        if 'HE_LIM_SUN_FETAL'.lower() in geneset.lower():\n",
    "            print(geneset)\n",
    "            he_lim.append(geneset)\n",
    "\n",
    "# Now remove HE_LIM_SUN_FETAL_LUNG_ from the names\n",
    "# These are from Big Cluster in supplementary figure 1\n",
    "he_lim = [x.replace('HE_LIM_SUN_FETAL_LUNG_', '') for x in he_lim]\n",
    "# Find the cluster by splitting by _ aand taking the first part\n",
    "clusters = [x.split('_')[0] for x in he_lim]\n",
    "dd = pd.DataFrame({'cluster': clusters, 'geneset': he_lim})\n",
    "# Focus only cluster C0\n",
    "dd[dd['cluster'] == 'C0']\n",
    "# find if there is fetal in column geneset\n",
    "dd[dd['geneset'].str.contains('fetal')]\n",
    "dd['orig'] = [f\"HE_LIM_SUN_FETAL_LUNG_{x}\" for x in dd['geneset']]\n",
    "\n",
    "score_names = dd['orig'][dd['cluster'] == 'C1'].values\n",
    "for sig in score_names:\n",
    "    print(sig)\n",
    "    genes = msigdb[msigdb['geneset'] == sig]['genesymbol'].values\n",
    "    print(len(genes))\n",
    "    sc.tl.score_genes(adata, genes, score_name=sig, use_raw=False, copy=False)"
   ]
  },
  {
   "cell_type": "code",
   "execution_count": null,
   "metadata": {},
   "outputs": [],
   "source": [
    "# Exteact the scores, compute p-values, then plot them individually\n",
    "df = adata.obs[['sample', 'FOXA2_is_expressed'] + list(score_names)].copy()\n",
    "\n",
    "# Compute the p-value of the test between FOXA2_is_expressed (TRUE vs FALSE) of each score\n",
    "pvals = {}\n",
    "for score in score_names:\n",
    "    group1_scores = df[df['FOXA2_is_expressed'] == True][score]\n",
    "    group2_scores = df[df['FOXA2_is_expressed'] == False][score]\n",
    "    u, p = mannwhitneyu(group1_scores, group2_scores, alternative='greater')\n",
    "    pvals[score] = p\n",
    "\n",
    "# Convert to dataframe\n",
    "pvals_df = pd.DataFrame({'score': list(pvals.keys()), 'p-value': list(pvals.values())})\n",
    "\n",
    "# Compute how many have significant pvalues\n",
    "pvals_df['significant'] = pvals_df['p-value'] < 0.01"
   ]
  },
  {
   "cell_type": "code",
   "execution_count": null,
   "metadata": {},
   "outputs": [],
   "source": [
    "significant_scores = pvals_df[pvals_df['significant']]['score'].values.tolist()\n",
    "\n",
    "# Subset for these scores\n",
    "df_sub = df[['sample', 'FOXA2_is_expressed'] + significant_scores].copy()\n",
    "\n",
    "# Plot the violin plots for each of the significant scores\n",
    "for score in significant_scores:\n",
    "    plot_score_violin(df_sub, score, fpath=os.path.join(figuresDir, f'{score}_violin.pdf'))\n",
    "\n"
   ]
  }
 ],
 "metadata": {
  "language_info": {
   "name": "python"
  }
 },
 "nbformat": 4,
 "nbformat_minor": 2
}
