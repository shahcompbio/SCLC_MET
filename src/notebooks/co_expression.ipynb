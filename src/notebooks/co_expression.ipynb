{
 "cells": [
  {
   "cell_type": "markdown",
   "metadata": {},
   "source": [
    "# Plotting co-expression pattern of ASCL1, PROX1, and FOXA2 in malignant cells"
   ]
  },
  {
   "cell_type": "markdown",
   "metadata": {},
   "source": [
    "## Setup Directories "
   ]
  },
  {
   "cell_type": "code",
   "execution_count": null,
   "metadata": {},
   "outputs": [],
   "source": [
    "import scanpy as sc\n",
    "from common_utils import setup_dirs, find_arial_font, add_gene_binary_status\n",
    "import os\n",
    "import numpy as np\n",
    "\n",
    "find_arial_font()\n",
    "\n",
    "outDir = OUTDIR_CO_EXPRESSION\n",
    "figuresDir, dataDir, tablesDir = setup_dirs(outDir)\n",
    "\n",
    "sc.settings.figdir = figuresDir\n",
    "sc.set_figure_params(dpi_save=300, vector_friendly=True)"
   ]
  },
  {
   "cell_type": "markdown",
   "metadata": {},
   "source": [
    "## Add a binary gene expression status and plot the noramlized expression for the putative malignant cells"
   ]
  },
  {
   "cell_type": "code",
   "execution_count": null,
   "metadata": {},
   "outputs": [],
   "source": [
    "# Constants\n",
    "cmap = 'plasma'\n",
    "genes = [\"ASCL1\", \"FOXA2\", \"PROX1\"]\n",
    "adata_path = ADATA_CO_EXPRESSION_PATH"
   ]
  },
  {
   "cell_type": "code",
   "execution_count": null,
   "metadata": {},
   "outputs": [],
   "source": [
    "adata = sc.read_h5ad(adata_path)\n",
    "adata = adata[:, genes].copy()\n",
    "\n",
    "# Add the binary status\n",
    "for gene in genes:\n",
    "    adata = add_gene_binary_status(adata, gene, threshold=0, use_counts=True)\n",
    "\n",
    "# Create the 8 groups based on the expression of these genes\n",
    "adata.obs[\"Expression Status\"] = (\n",
    "    adata.obs[\"ASCL1_is_expressed\"].astype(str)\n",
    "    + adata.obs[\"FOXA2_is_expressed\"].astype(str)\n",
    "    + adata.obs[\"PROX1_is_expressed\"].astype(str)\n",
    ")\n",
    "\n",
    "# Map to readable names:  TrueTrueFalse -> ASCL1+FOXA2+PROX1-\n",
    "for gene in genes:\n",
    "    the_map = {True: f\"{gene}+\", False: f\"{gene}-\"}\n",
    "    adata.obs[f\"{gene}_status\"] = adata.obs[f\"{gene}_is_expressed\"].map(the_map)\n",
    "\n",
    "adata.obs[\"Expression Status\"] = (\n",
    "    adata.obs[\"ASCL1_status\"].astype(str)\n",
    "    + adata.obs[\"FOXA2_status\"].astype(str)\n",
    "    + adata.obs[\"PROX1_status\"].astype(str)\n",
    ")\n",
    "\n",
    "order = adata.obs.sort_values(\"ASCL1_EXPR\", ascending=False).index.tolist()\n",
    "adata = adata[order].copy()\n",
    "\n",
    "vmax = adata.X.max()\n",
    "sc.pl.heatmap(\n",
    "    adata,\n",
    "    genes,\n",
    "    groupby=\"Expression Status\",\n",
    "    show=False,\n",
    "    swap_axes=True,\n",
    "    figsize=(10, 5),\n",
    "    save=f\"_co_expression_19_status_{cmap}_vmax_{vmax}.pdf\",\n",
    "    use_raw=False,\n",
    "    vmax=vmax,\n",
    "    dendrogram=False,\n",
    "    cmap=cmap,\n",
    ")"
   ]
  }
 ],
 "metadata": {
  "language_info": {
   "name": "python"
  }
 },
 "nbformat": 4,
 "nbformat_minor": 2
}
