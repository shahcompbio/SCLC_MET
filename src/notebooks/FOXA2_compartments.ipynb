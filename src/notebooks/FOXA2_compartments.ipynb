{
 "cells": [
  {
   "cell_type": "markdown",
   "metadata": {},
   "source": [
    "# Expression of FOXA2 and other candidate TFs\n",
    "\n",
    "Use violin plots instead of the heatmap.\n",
    "\n",
    "\n",
    "```{Reviewer Comment}\n",
    "Fig. 2E: Replace the current visualization with violin plots, showing each sample as a distinct data point,\n",
    "to improve interpretability.\n",
    "```\n",
    "\n",
    "\n",
    "## Rendition 1.\n",
    "\n",
    "- As a grid of violin plots\n",
    "\n",
    "## Rendition 2.\n",
    "\n",
    "- Multi-panel: each panel is a TF, X is the compartment, points are the average expression per compartment per patient"
   ]
  },
  {
   "cell_type": "code",
   "execution_count": null,
   "metadata": {},
   "outputs": [],
   "source": [
    "from common_utils import setup_dirs, find_arial_font\n",
    "\n",
    "find_arial_font()"
   ]
  },
  {
   "cell_type": "code",
   "execution_count": null,
   "metadata": {},
   "outputs": [],
   "source": [
    "outDir = OUTDIR_COMPARTMENTS\n",
    "figuresDir, dataDir, tablesDir = setup_dirs(outDir)\n",
    "\n",
    "sc.settings.figdir = figuresDir\n",
    "sc.set_figure_params(dpi_save=300, vector_friendly=True)"
   ]
  },
  {
   "cell_type": "code",
   "execution_count": null,
   "metadata": {},
   "outputs": [],
   "source": [
    "rsync -azvp --relative \\\n",
    "    iris:/data1/shahs3/users/salehis/sclc/./results//rebuttal/nat_methods/figures/*.p* \\\n",
    "    /Users/salehis/Projects/sclc/rebuttal_code/SCLC_MET/"
   ]
  },
  {
   "cell_type": "code",
   "execution_count": null,
   "metadata": {},
   "outputs": [],
   "source": [
    "# Load the filtered cells\n",
    "cdata_path = '/data1/shahs3/users/salehis/sclc/results/patient_met/primary_umaps/data/primary_scrublet_qc_harmony_final.h5ad'\n",
    "cdata = sc.read_h5ad(cdata_path)\n",
    "keep_cells = cdata.obs.index.tolist()\n",
    "\n",
    "# Load the raw counts\n",
    "adata = sc.read_h5ad(os.path.join('/data1/shahs3/users/salehis/sclc/results/patient_met/primary_umaps/data', 'primary_scrublet_qc.h5ad'))\n",
    "adata.X = adata.layers['counts'].copy()\n",
    "adata = adata[keep_cells, :].copy()\n",
    "\n",
    "compartment_mapping_path = '/data1/shahs3/users/salehis/sclc/results/patient_met/primary_umaps/primary_ann_level_1.csv.gz'\n",
    "compartment_mapping = pd.read_csv(compartment_mapping_path, index_col=0)\n",
    "adata.obs = adata.obs.join(compartment_mapping[['predicted.ann_level_1']])\n"
   ]
  },
  {
   "cell_type": "markdown",
   "metadata": {},
   "source": [
    "# Rendition 1.\n",
    "\n",
    "- As a grid of violin plots\n",
    "\n",
    "\n",
    "- Compute the average expression of each TF per patient per compartment"
   ]
  },
  {
   "cell_type": "code",
   "execution_count": null,
   "metadata": {},
   "outputs": [],
   "source": [
    "# Normalize the log1p data\n",
    "bdata = adata.copy()\n",
    "assert bdata.X.max() > 100, 'Data is not counts'\n",
    "# Filter genes and cells\n",
    "sc.pp.filter_genes(bdata, min_cells=3)\n",
    "sc.pp.filter_cells(bdata, min_genes=200)\n",
    "bdata = filter_genes(bdata)\n",
    "\n",
    "'RAX2' in bdata.var_names\n",
    "\n",
    "sc.pp.normalize_total(bdata, target_sum=1e4)\n",
    "sc.pp.log1p(bdata)\n",
    "assert bdata.X.max() < 50, 'Data is not normalized'\n",
    "\n",
    "TFs = ['MEOX1', 'ARX', 'FOXD4', 'RAX2', 'FOXL1', 'FOXS1', 'PRRX2', 'FOXA2']\n",
    "df = bdata.obs[['predicted.ann_level_1', 'sample']].copy()\n",
    "for tf in TFs:\n",
    "    df[tf] = bdata[:, tf].X.toarray().flatten()\n",
    "\n",
    "# Compute average per sample\n",
    "df = df.groupby(['sample', 'predicted.ann_level_1'], observed=False).mean().reset_index()\n",
    "\n",
    "# Melt\n",
    "df = df.melt(id_vars=['sample', 'predicted.ann_level_1'], var_name='TF', value_name='expression')\n",
    "\n",
    "# Print min and max expression\n",
    "print(f\"Min expression: {df['expression'].min()}\")\n",
    "print(f\"Max expression: {df['expression'].max()}\")\n",
    "\n",
    "# Save this\n",
    "df.to_csv(os.path.join(tablesDir, 'TF_expression_per_sample.csv.gz'), index=False)"
   ]
  },
  {
   "cell_type": "code",
   "execution_count": null,
   "metadata": {},
   "outputs": [],
   "source": [
    "# Plot\n",
    "df = pd.read_csv(os.path.join(tablesDir, \"TF_expression_per_sample.csv.gz\"))\n",
    "\n",
    "# Rename predicted.ann_level_1 to Compartment\n",
    "df = df.rename(columns={\"predicted.ann_level_1\": \"Compartment\"})\n",
    "\n",
    "# Use seaborn to plot violin plots of TF expression per sample. Each panel is a violin plot,\n",
    "# Each panel: a TF\n",
    "# Each point: a sample\n",
    "# X: predicted.ann_level_1 (compatment)\n"
   ]
  },
  {
   "cell_type": "code",
   "execution_count": null,
   "metadata": {},
   "outputs": [],
   "source": [
    "def plot_violin_compartment(figsize=(12, 8)):\n",
    "    \"\"\"\n",
    "    X: Each panel is a compartment, X axis is TF, Y axis is expression\n",
    "    \"\"\"\n",
    "    tf_order = ['MEOX1', 'ARX', 'FOXA2', 'FOXD4', 'RAX2', 'FOXL1', 'FOXS1', 'PRRX2']\n",
    "    compartments = ['Endothelial', 'Epithelial', 'Immune', 'Stroma']\n",
    "    plt.clf()\n",
    "    fig, axes = plt.subplots(\n",
    "        nrows=2, ncols=2, figsize=figsize, sharey=True\n",
    "    )\n",
    "    for i, compartment in enumerate(compartments):\n",
    "        ax = axes.flatten()[i]\n",
    "        df_tf = df[df[\"Compartment\"] == compartment].copy()\n",
    "        sns.violinplot(\n",
    "            data=df_tf,\n",
    "            x=\"TF\",\n",
    "            y=\"expression\",\n",
    "            hue=\"TF\",\n",
    "            ax=ax,\n",
    "            split=False,\n",
    "            inner=\"points\",\n",
    "            linewidth=0.5,\n",
    "            density_norm=\"width\",\n",
    "        )\n",
    "        _ = ax.tick_params(axis='x', rotation=90)\n",
    "        ax.set_title(compartment.capitalize())\n",
    "        ax.set_xlabel(\"\")\n",
    "        ax.set_ylabel(\"Normalized Expression\")\n",
    "        ax.grid(False)\n",
    "        ax.legend().remove()\n",
    "    plt.tight_layout()\n",
    "    plt.savefig(\n",
    "        os.path.join(figuresDir, \"TF_expression_per_sample_compartment.pdf\"), bbox_inches=\"tight\"\n",
    "    )\n",
    "    plt.close(fig)\n",
    "\n",
    "\n",
    "def plot_violin(figsize=(12, 8)):\n",
    "    tf_order = ['MEOX1', 'ARX', 'FOXA2', 'FOXD4', 'RAX2', 'FOXL1', 'FOXS1', 'PRRX2']\n",
    "    plt.clf()\n",
    "    fig, axes = plt.subplots(\n",
    "        nrows=2, ncols=4, figsize=figsize, sharey=True\n",
    "    )\n",
    "    for i, tf in enumerate(tf_order):\n",
    "        ax = axes.flatten()[i]\n",
    "        df_tf = df[df[\"TF\"] == tf].copy()\n",
    "        sns.violinplot(\n",
    "            data=df_tf,\n",
    "            x=\"Compartment\",\n",
    "            y=\"expression\",\n",
    "            hue=\"Compartment\",\n",
    "            ax=ax,\n",
    "            split=False,\n",
    "            inner=\"points\",\n",
    "            linewidth=0.5,\n",
    "            linecolor=None,\n",
    "            density_norm=\"width\",\n",
    "        )\n",
    "        _ = ax.tick_params(axis='x', rotation=90)\n",
    "        ax.set_title(tf)\n",
    "        ax.set_xlabel(\"\")\n",
    "        ax.set_ylabel(\"Normalized Expression\")\n",
    "        ax.grid(False)\n",
    "        ax.legend().remove()\n",
    "    plt.tight_layout()\n",
    "    plt.savefig(\n",
    "        os.path.join(figuresDir, \"TF_expression_per_sample.pdf\"), bbox_inches=\"tight\"\n",
    "    )\n",
    "    plt.close(fig)"
   ]
  },
  {
   "cell_type": "code",
   "execution_count": null,
   "metadata": {},
   "outputs": [],
   "source": [
    "\n",
    "plot_violin(figsize=(8, 7))\n",
    "plot_violin_compartment(figsize=(8, 6))"
   ]
  }
 ],
 "metadata": {
  "language_info": {
   "name": "python"
  }
 },
 "nbformat": 4,
 "nbformat_minor": 2
}
