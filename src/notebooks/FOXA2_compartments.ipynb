{
 "cells": [
  {
   "cell_type": "markdown",
   "metadata": {},
   "source": [
    "# Expression of FOXA2 and other candidate TFs\n",
    "\n",
    "Use violin plots instead of the heatmap."
   ]
  }
 ],
 "metadata": {
  "language_info": {
   "name": "python"
  }
 },
 "nbformat": 4,
 "nbformat_minor": 2
}
